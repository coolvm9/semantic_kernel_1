{
 "cells": [
  {
   "cell_type": "code",
   "execution_count": 22,
   "id": "303124c8-c05a-4089-a589-903b29f24e87",
   "metadata": {},
   "outputs": [],
   "source": [
    "import sys\n",
    "import os\n",
    "\n",
    "# Get the absolute path to the project root (one level up from the notebooks directory)\n",
    "project_root = os.path.abspath(os.path.join(os.getcwd()))\n",
    "# Or directly the src folder:\n",
    "src_path = os.path.join(project_root, 'src')\n",
    "\n",
    "if src_path not in sys.path:\n",
    "    sys.path.insert(0, src_path)"
   ]
  },
  {
   "cell_type": "code",
   "execution_count": 27,
   "id": "2acb0ee9-81bc-40ff-a913-4182535a7a92",
   "metadata": {},
   "outputs": [
    {
     "name": "stdout",
     "output_type": "stream",
     "text": [
      "test\n"
     ]
    }
   ],
   "source": [
    "import src.env_loader_util as env_load\n",
    "\n",
    "env_load.load_env(project_name='semantic_kernel_1')\n",
    "\n",
    "open_api_key = env_load.get_env_variable(\"OPENAI_API_KEY\")\n",
    "print(open_api_key)\n"
   ]
  },
  {
   "cell_type": "code",
   "execution_count": null,
   "id": "8013aafd-a277-44c2-9604-c7cd5ad3421b",
   "metadata": {},
   "outputs": [],
   "source": []
  }
 ],
 "metadata": {
  "kernelspec": {
   "display_name": "Python (semantic_kernel_1)",
   "language": "python",
   "name": "semantic_kernel_1"
  },
  "language_info": {
   "codemirror_mode": {
    "name": "ipython",
    "version": 3
   },
   "file_extension": ".py",
   "mimetype": "text/x-python",
   "name": "python",
   "nbconvert_exporter": "python",
   "pygments_lexer": "ipython3",
   "version": "3.11.11"
  }
 },
 "nbformat": 4,
 "nbformat_minor": 5
}
